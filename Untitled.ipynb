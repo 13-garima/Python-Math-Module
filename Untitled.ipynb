{
 "cells": [
  {
   "cell_type": "code",
   "execution_count": null,
   "id": "888bf8e8-d682-4956-a633-fed8adba4285",
   "metadata": {},
   "outputs": [],
   "source": [
    "# Python Language\n",
    "\n",
    "## Python Math\n",
    "\n",
    "## Python Math library has many built-in functions\n",
    "\n",
    "## The following code explores all the built-in math functions in python .\n",
    "\n"
   ]
  },
  {
   "cell_type": "code",
   "execution_count": 38,
   "id": "b4c1a8ef-20e5-4e46-b66e-455134ade506",
   "metadata": {},
   "outputs": [],
   "source": [
    "# Take outs\n",
    "\n",
    "## Abs(),Max(),Min(),Pow(),functions are evaluated without importing math\n",
    "## Max(),Min(),Pow() are valid with list of numbers\n",
    "## Abs() is invalid with list of numbers\n",
    "## parameters\n",
    "## acosh > =1\n",
    "## asin() = -1 to 1 \n",
    "## atanh() = -0.99 to 0.99"
   ]
  },
  {
   "cell_type": "code",
   "execution_count": null,
   "id": "97208d20-f1af-44c0-ace4-499bb8d39d52",
   "metadata": {},
   "outputs": [],
   "source": []
  },
  {
   "cell_type": "code",
   "execution_count": null,
   "id": "2a334332-30fc-40eb-8307-a7d433bf118f",
   "metadata": {},
   "outputs": [],
   "source": [
    "## Max() \n",
    "## Min()\n",
    "## Abs() "
   ]
  },
  {
   "cell_type": "code",
   "execution_count": 10,
   "id": "822949d8-ae47-4d07-8dc0-b3737d926024",
   "metadata": {},
   "outputs": [
    {
     "name": "stdout",
     "output_type": "stream",
     "text": [
      "The maximum value is\n",
      " 1001\n",
      "\n",
      "\n",
      "The minimum value is\n",
      " 12\n",
      "\n",
      "\n",
      "The absolute value is\n",
      " 999\n"
     ]
    }
   ],
   "source": [
    "numbers = [12,45,78,96,1001]\n",
    "absolute = -999\n",
    "print(\"The maximum value is\\n\",max(numbers))\n",
    "print(\"\\n\")\n",
    "print(\"The minimum value is\\n\",min(numbers))\n",
    "print(\"\\n\")\n",
    "print(\"The absolute value is\\n\",abs(absolute))\n",
    "\n"
   ]
  },
  {
   "cell_type": "code",
   "execution_count": null,
   "id": "ae4cda23-8104-45f4-b947-fa783a00d059",
   "metadata": {},
   "outputs": [],
   "source": []
  },
  {
   "cell_type": "code",
   "execution_count": null,
   "id": "3aa616ff-6026-4e0b-9661-ece0f501fe93",
   "metadata": {},
   "outputs": [],
   "source": [
    "## Pow : power function "
   ]
  },
  {
   "cell_type": "code",
   "execution_count": 11,
   "id": "c6f88536-313b-401d-b2ac-cb68927684a9",
   "metadata": {},
   "outputs": [
    {
     "name": "stdout",
     "output_type": "stream",
     "text": [
      "34 raise to power 2 = 1156\n"
     ]
    }
   ],
   "source": [
    "a = pow(34,2)\n",
    "\n",
    "print(\"34 raise to power 2 =\",a)"
   ]
  },
  {
   "cell_type": "code",
   "execution_count": 15,
   "id": "6d28c886-1a46-4f0f-9fec-77e6f3b04b2d",
   "metadata": {},
   "outputs": [
    {
     "name": "stdout",
     "output_type": "stream",
     "text": [
      "Squares \n",
      "\n",
      "1\n",
      "4\n",
      "9\n",
      "16\n",
      "25\n",
      "36\n",
      "49\n",
      "64\n",
      "81\n",
      "100\n"
     ]
    }
   ],
   "source": [
    "b = [1,2,3,4,5,6,7,8,9,10]\n",
    "print(\"Squares \\n\")\n",
    "for i in b:\n",
    "    print(pow(i,2))"
   ]
  },
  {
   "cell_type": "code",
   "execution_count": 16,
   "id": "21b0cf63-7a54-4f67-9511-6de8be9eed9d",
   "metadata": {},
   "outputs": [],
   "source": [
    "# import math"
   ]
  },
  {
   "cell_type": "code",
   "execution_count": 2,
   "id": "51e4b078-a25b-4ef3-ad11-8602c6000468",
   "metadata": {},
   "outputs": [
    {
     "name": "stdout",
     "output_type": "stream",
     "text": [
      "number = 0 , Arc cosine value =  1.5707963267948966\n",
      "number = 1 , Arc cosine value =  0.0\n",
      "number = 0.9 , Arc cosine value =  0.45102681179626236\n",
      "number = 0.8 , Arc cosine value =  0.6435011087932843\n"
     ]
    }
   ],
   "source": [
    "import math\n",
    "\n",
    "# acos() returns the arc cosine of a number\n",
    "\n",
    "numbers = [0,1,0.9,0.8]\n",
    "for i in numbers:\n",
    "    print(\"number = \"+ str(i) + \" , \"+ \"Arc cosine value = \"+ \" \"+ str(math.acos(i)))\n",
    "    \n"
   ]
  },
  {
   "cell_type": "code",
   "execution_count": 27,
   "id": "0c5c8be3-958d-4bd6-abfa-f734fb6eb7ff",
   "metadata": {},
   "outputs": [
    {
     "name": "stdout",
     "output_type": "stream",
     "text": [
      "number = 10 , inverse hyperbolic cosine value =  2.993222846126381\n",
      "number = 4 , inverse hyperbolic cosine value =  2.0634370688955608\n",
      "number = 67 , inverse hyperbolic cosine value =  4.897784103607189\n",
      "number = 900 , inverse hyperbolic cosine value =  7.495541635242138\n"
     ]
    }
   ],
   "source": [
    "# acosh ()\n",
    "numbers = [10,4,67,900]\n",
    "for i in numbers:\n",
    "    print(\"number = \"+ str(i) + \" , \"+ \"Inverse hyperbolic cosine value = \"+ \" \"+ str(math.acosh(i)))\n"
   ]
  },
  {
   "cell_type": "code",
   "execution_count": 30,
   "id": "b1ef3e12-9cc4-4ac6-a033-eff65c792866",
   "metadata": {},
   "outputs": [
    {
     "name": "stdout",
     "output_type": "stream",
     "text": [
      "number = 0 , arc sine value =  0.0\n",
      "number = 1 , arc sine value =  1.5707963267948966\n",
      "number = 0.9 , arc sine value =  1.1197695149986342\n",
      "number = 0.8 , arc sine value =  0.9272952180016123\n"
     ]
    }
   ],
   "source": [
    "#asine()\n",
    "numbers = [0,1,0.9,0.8]\n",
    "for i in numbers:\n",
    "    print(\"number = \"+ str(i) + \" , \"+ \"Arc sine value = \"+ \" \"+ str(math.asin(i)))\n",
    "    "
   ]
  },
  {
   "cell_type": "code",
   "execution_count": 31,
   "id": "51f1b7c5-6593-4ce2-81c7-6ca78ce70b71",
   "metadata": {},
   "outputs": [
    {
     "name": "stdout",
     "output_type": "stream",
     "text": [
      "number = 10 , inverse hyperbolic sine value =  2.99822295029797\n",
      "number = 4 , inverse hyperbolic sine value =  2.0947125472611012\n",
      "number = 67 , inverse hyperbolic sine value =  4.89789548698994\n",
      "number = 900 , inverse hyperbolic sine value =  7.495542252526088\n"
     ]
    }
   ],
   "source": [
    "# asinh\n",
    "\n",
    "numbers = [10,4,67,900]\n",
    "for i in numbers:\n",
    "    print(\"number = \"+ str(i) + \" , \"+ \"Inverse hyperbolic sine value = \"+ \" \"+ str(math.asinh(i)))"
   ]
  },
  {
   "cell_type": "code",
   "execution_count": 32,
   "id": "16aea26e-fb76-4b27-9d30-d811e57f2687",
   "metadata": {},
   "outputs": [
    {
     "name": "stdout",
     "output_type": "stream",
     "text": [
      "number = 10 , Tan value =  1.4711276743037347\n",
      "number = 4 , Tan value =  1.3258176636680326\n",
      "number = 67 , Tan value =  1.5558720618048116\n",
      "number = 900 , Tan value =  1.5696852161410326\n"
     ]
    }
   ],
   "source": [
    "# atan \n",
    "numbers = [10,4,67,900]\n",
    "for i in numbers:\n",
    "    print(\"number = \"+ str(i) + \" , \"+ \"Tan value = \"+ \" \"+ str(math.atan(i)))"
   ]
  },
  {
   "cell_type": "code",
   "execution_count": 35,
   "id": "a1078c6e-9973-45f7-b771-cad0b2ff9d76",
   "metadata": {},
   "outputs": [
    {
     "name": "stdout",
     "output_type": "stream",
     "text": [
      "number = 10 , Arc tangent value =  0.7378150601204649\n",
      "number = 4 , Arc tangent value =  0.6747409422235526\n",
      "number = 67 , Arc tangent value =  0.7779908914662833\n",
      "number = 900 , Arc tangent value =  0.7848429163695563\n"
     ]
    }
   ],
   "source": [
    "numbers = [10,4,67,900]\n",
    "for i in numbers:\n",
    "    print(\"number = \"+ str(i) + \" , \"+ \"Arc tangent value = \"+ \" \"+ str(math.atan2(i,i+1)))"
   ]
  },
  {
   "cell_type": "code",
   "execution_count": 37,
   "id": "8797c76f-4870-4b3c-8607-35d1221a54d6",
   "metadata": {},
   "outputs": [
    {
     "name": "stdout",
     "output_type": "stream",
     "text": [
      "number = 0 , Inverse hyperbolic tan value =  0.0\n",
      "number = 0.1 , Inverse hyperbolic tan value =  0.1003353477310756\n",
      "number = 0.8 , Inverse hyperbolic tan value =  1.0986122886681098\n",
      "number = -0.9 , Inverse hyperbolic tan value =  -1.4722194895832204\n"
     ]
    }
   ],
   "source": [
    "numbers = [0,0.1,0.8,-0.9]\n",
    "for i in numbers:\n",
    "    print(\"number = \"+ str(i) + \" , \"+ \"Inverse hyperbolic tan value = \"+ \" \"+ str(math.atanh(i)))"
   ]
  },
  {
   "cell_type": "code",
   "execution_count": 43,
   "id": "6dc79cb1-f8a9-42ff-93f1-c5daa438db46",
   "metadata": {},
   "outputs": [
    {
     "name": "stdout",
     "output_type": "stream",
     "text": [
      "number = 1.4 , Ceiling Value = 2\n",
      "number = 4.8 , Ceiling Value = 5\n",
      "number = 6.9 , Ceiling Value = 7\n",
      "number = 0.22 , Ceiling Value = 1\n",
      "number = 9.89 , Ceiling Value = 10\n"
     ]
    }
   ],
   "source": [
    "ceil = [1.4,4.8,6.9,0.22,9.89]\n",
    "\n",
    "for i in ceil :\n",
    "    print(\"number = \"+ str(i) + \" , \"+ \"Ceiling Value =\" + \" \"+str(math.ceil(i)))"
   ]
  },
  {
   "cell_type": "markdown",
   "id": "b7c7d881-8525-4237-8cf1-5fddb3bc48e7",
   "metadata": {},
   "source": [
    "# comb : number of ways \n",
    "\n",
    "print(\"Number of ways\")\n"
   ]
  },
  {
   "cell_type": "markdown",
   "id": "7434b91f-4568-42b8-b2a3-c6cbb3bf4999",
   "metadata": {},
   "source": [
    "# A\n"
   ]
  },
  {
   "cell_type": "code",
   "execution_count": 65,
   "id": "ff95522f-d273-4bc1-ae0a-79892f17f608",
   "metadata": {},
   "outputs": [
    {
     "name": "stdout",
     "output_type": "stream",
     "text": [
      "Acos value 1.4706289056333368\n",
      "Acosh value  3.176313180591656\n",
      "Asin value  0.41151684606748806\n",
      "Asinh value  2.0947125472611012\n",
      "Atan value 1.4288992721907328\n",
      "Atan2 value 0.7188299996216245\n",
      "Atanh value 1.0986122886681098\n"
     ]
    }
   ],
   "source": [
    "print(\"Acos value\", math.acos(0.1))\n",
    "print(\"Acosh value \",math.acosh(12))\n",
    "print(\"Asin value \",math.asin(0.4))\n",
    "print(\"Asinh value \",math.asinh(4))\n",
    "print(\"Atan value\",math.atan(7))\n",
    "print(\"Atan2 value\",math.atan2(7,8))\n",
    "print(\"Atanh value\",math.atanh(0.8))\n"
   ]
  },
  {
   "cell_type": "markdown",
   "id": "44816c81-94cf-4bc2-aa45-b43b90747c4f",
   "metadata": {},
   "source": [
    "# C"
   ]
  },
  {
   "cell_type": "code",
   "execution_count": 69,
   "id": "0775b506-414f-4008-b945-0cb8d737a214",
   "metadata": {},
   "outputs": [
    {
     "name": "stdout",
     "output_type": "stream",
     "text": [
      "Ceil value 120\n",
      "Comb value 30601103763379774409244013819107626606875914338242661292306000\n",
      "Copy sign 100.0\n",
      "Cos value 0.9950041652780258\n",
      "Cosh value  81377.39571257407\n"
     ]
    }
   ],
   "source": [
    "print(\"Ceil value\",math.ceil(119.7709))\n",
    "print(\"Comb value\",math.comb(300,56))\n",
    "print(\"Copy sign\",math.copysign(-100,78))\n",
    "print(\"Cos value\", math.cos(0.1))\n",
    "print(\"Cosh value \",math.cosh(12))\n"
   ]
  },
  {
   "cell_type": "markdown",
   "id": "ca060a3c-01ba-4f4e-b2c4-62bcf8541a78",
   "metadata": {},
   "source": [
    "# D"
   ]
  },
  {
   "cell_type": "code",
   "execution_count": 79,
   "id": "8c961a92-1131-402d-b58d-5fe2ebed2b91",
   "metadata": {},
   "outputs": [
    {
     "name": "stdout",
     "output_type": "stream",
     "text": [
      "Degress  180.0\n",
      "Eculidean distance  44.0\n"
     ]
    }
   ],
   "source": [
    "print(\"Degress \",math.degrees(math.pi))\n",
    " \n",
    "print(\"Eculidean distance \",math.dist([50],[6]))"
   ]
  },
  {
   "cell_type": "markdown",
   "id": "3d3dcf8a-21a6-4220-965a-c9ff1a4e5b3d",
   "metadata": {},
   "source": [
    "# E"
   ]
  },
  {
   "cell_type": "code",
   "execution_count": 48,
   "id": "5d062579-4367-40d2-b5ad-fda1193925ab",
   "metadata": {},
   "outputs": [
    {
     "name": "stdout",
     "output_type": "stream",
     "text": [
      "Error Function 1.0\n",
      "Complement of Error Function 0.0\n",
      "Exponent power 7.38905609893065\n",
      "Exponent power-1  6.38905609893065\n",
      "Eculer number 2.718281828459045\n"
     ]
    }
   ],
   "source": [
    "print(\"Error Function\",math.erf(90.88))\n",
    "print(\"Complement of Error Function\",math.erfc(90.88))\n",
    "print(\"Exponent power\",math.exp(2))\n",
    "print(\"Exponent power-1 \",math.expm1(2))\n",
    "print(\"Eculer number\",math.e)"
   ]
  },
  {
   "cell_type": "markdown",
   "id": "5c486294-3e9f-4241-8a21-63231892a38b",
   "metadata": {},
   "source": [
    "# F"
   ]
  },
  {
   "cell_type": "code",
   "execution_count": 94,
   "id": "c23795d5-82f0-4c29-ad93-e9a79e2ef411",
   "metadata": {},
   "outputs": [
    {
     "name": "stdout",
     "output_type": "stream",
     "text": [
      "Absolute value 90.0\n",
      "Factorial  3628800\n",
      "Floor 8\n",
      "Mod value 1.0\n",
      "Mantissa,exponent (0.703125, 6)\n",
      "List sum  10.0\n"
     ]
    }
   ],
   "source": [
    "print(\"Absolute value\",math.fabs(90))\n",
    "print(\"Factorial \",math.factorial(10))\n",
    "print(\"Floor\",math.floor(8.99))\n",
    "print(\"Mod value\",math.fmod(34,3))\n",
    "print(\"Mantissa,exponent\",math.frexp(45))\n",
    "print(\"List sum \",math.fsum([1,2,3,4]))"
   ]
  },
  {
   "cell_type": "markdown",
   "id": "c95b10c4-2c5d-417e-ab4d-d11abf7280ab",
   "metadata": {},
   "source": [
    "# G"
   ]
  },
  {
   "cell_type": "code",
   "execution_count": 9,
   "id": "0f1443be-a5b8-4c90-9508-ffc0fe872a3d",
   "metadata": {},
   "outputs": [
    {
     "name": "stdout",
     "output_type": "stream",
     "text": [
      "Gamma value 454760.7514415857\n",
      "GCD  100\n"
     ]
    }
   ],
   "source": [
    "print(\"Gamma value\",math.gamma(10.1))\n",
    "print(\"GCD \",math.gcd(500,100))"
   ]
  },
  {
   "cell_type": "markdown",
   "id": "931f89cd-2bd5-4d87-94ae-812705ce802d",
   "metadata": {},
   "source": [
    "# H"
   ]
  },
  {
   "cell_type": "code",
   "execution_count": 10,
   "id": "43b87848-5c48-4f6e-bcad-a5e9650caf0c",
   "metadata": {},
   "outputs": [
    {
     "name": "stdout",
     "output_type": "stream",
     "text": [
      "Hypotenuse 11.180339887498949\n"
     ]
    }
   ],
   "source": [
    "perpendicular = 5\n",
    "base = 10\n",
    "\n",
    "print(\"Hypotenuse\",math.hypot(perpendicular,base))"
   ]
  },
  {
   "cell_type": "markdown",
   "id": "7ec4726a-9fc3-4297-ab38-e9a05249120c",
   "metadata": {},
   "source": [
    "# I"
   ]
  },
  {
   "cell_type": "code",
   "execution_count": 51,
   "id": "dc56ccbe-327e-4a6c-a6f1-98656bc89291",
   "metadata": {},
   "outputs": [
    {
     "name": "stdout",
     "output_type": "stream",
     "text": [
      "Is close ? False\n",
      "Is Finite? True\n",
      "Is infinite? False\n",
      "Is NaN? True\n",
      "Square root round up 31\n",
      "Positive Infinity  inf\n"
     ]
    }
   ],
   "source": [
    "print(\"Is close ?\",math.isclose(1.2,1.23))\n",
    "print(\"Is Finite?\",math.isfinite(1000))\n",
    "print(\"Is infinite?\",math.isinf(199))\n",
    "print(\"Is NaN?\",math.isnan(math.nan))\n",
    "print(\"Square root round up\",math.isqrt(999))\n",
    "print(\"Positive Infinity \",math.inf)"
   ]
  },
  {
   "cell_type": "markdown",
   "id": "20d036d4-46a7-467b-a533-ab1ba3a5b66e",
   "metadata": {},
   "source": [
    "# L"
   ]
  },
  {
   "cell_type": "code",
   "execution_count": 28,
   "id": "d6835293-ddfe-49b2-8aab-0825f707f108",
   "metadata": {},
   "outputs": [
    {
     "name": "stdout",
     "output_type": "stream",
     "text": [
      "ldexp value  1280.0\n",
      "Log gamma value  12.801827480081467\n",
      "Log  3.1354942159291497\n",
      "Log 10  2.307496037913213\n",
      "Log 1 p  3.1780538303479458\n",
      "Log 2 4.523561956057013\n"
     ]
    }
   ],
   "source": [
    "print(\"ldexp value \",math.ldexp(10,7))\n",
    "print(\"Log gamma value \",math.lgamma(10))\n",
    "print(\"Log \",math.log(23))\n",
    "print(\"Log 10 \",math.log10(203))\n",
    "print(\"Log 1 p \",math.log1p(23))\n",
    "print(\"Log 2\",math.log2(23))"
   ]
  },
  {
   "cell_type": "markdown",
   "id": "fd9df428-8948-4217-8b3b-e178e331842a",
   "metadata": {},
   "source": [
    "# N"
   ]
  },
  {
   "cell_type": "code",
   "execution_count": 53,
   "id": "c33e5f7c-7823-4de3-a9ac-0d9bab90e2d6",
   "metadata": {},
   "outputs": [
    {
     "name": "stdout",
     "output_type": "stream",
     "text": [
      "Not a number nan\n"
     ]
    }
   ],
   "source": [
    "print(\"Not a number\",math.nan)"
   ]
  },
  {
   "cell_type": "markdown",
   "id": "43de2baa-057d-48b1-b387-3f4213054727",
   "metadata": {},
   "source": [
    "# P"
   ]
  },
  {
   "cell_type": "code",
   "execution_count": 54,
   "id": "58a98c94-a230-4d19-81e0-b9295672200a",
   "metadata": {},
   "outputs": [
    {
     "name": "stdout",
     "output_type": "stream",
     "text": [
      "Permutation  1168863696000\n",
      "Power  1544804416.0\n",
      "Product of list  6\n",
      "Pi  3.141592653589793\n"
     ]
    }
   ],
   "source": [
    "print(\"Permutation \",math.perm(56,7))\n",
    "print(\"Power \",math.pow(34,6))\n",
    "print(\"Product of list \",math.prod([1,2,3]))\n",
    "print(\"Pi \",math.pi)"
   ]
  },
  {
   "cell_type": "markdown",
   "id": "155d8253-ec19-4ec9-87fc-19cefa86d85b",
   "metadata": {},
   "source": [
    "# R"
   ]
  },
  {
   "cell_type": "code",
   "execution_count": 35,
   "id": "b3535072-dcff-4769-a43b-e173a2594013",
   "metadata": {},
   "outputs": [
    {
     "name": "stdout",
     "output_type": "stream",
     "text": [
      "Radian  3.141592653589793\n",
      "Remainder -1.0\n"
     ]
    }
   ],
   "source": [
    "print(\"Radian \",math.radians(180))\n",
    "print(\"Remainder\",math.remainder(999122,3))"
   ]
  },
  {
   "cell_type": "markdown",
   "id": "857d1358-abab-499a-af21-9fe79793140f",
   "metadata": {},
   "source": [
    "# S"
   ]
  },
  {
   "cell_type": "code",
   "execution_count": 44,
   "id": "b4729ca7-6635-4e2e-adcf-b152a2450d79",
   "metadata": {},
   "outputs": [
    {
     "name": "stdout",
     "output_type": "stream",
     "text": [
      "Sine Value  -0.8011526357338304\n",
      "Hyperbolic sine Value  7.446921003909191e+77\n",
      "Square root  88.83692925805124\n"
     ]
    }
   ],
   "source": [
    "print(\"Sine Value \",math.sin(180))\n",
    "print(\"Hyperbolic sine Value \",math.sinh(180))\n",
    "print(\"Square root \",math.sqrt(7892))"
   ]
  },
  {
   "cell_type": "markdown",
   "id": "4e608c2d-c37c-481a-96d7-f455a7e30b66",
   "metadata": {},
   "source": [
    "# T"
   ]
  },
  {
   "cell_type": "code",
   "execution_count": 55,
   "id": "6ec7afa9-0a5e-454e-9b78-29d2f66c1f95",
   "metadata": {},
   "outputs": [
    {
     "name": "stdout",
     "output_type": "stream",
     "text": [
      "Tan value  1.5574077246549023\n",
      "Hyperbolic tan value  0.7615941559557649\n",
      "Truncated value 9\n",
      "Tau  6.283185307179586\n"
     ]
    }
   ],
   "source": [
    "print(\"Tan value \", math.tan(1))\n",
    "print(\"Hyperbolic tan value \",math.tanh(1))\n",
    "print(\"Truncated value\",math.trunc(9.11118))\n",
    "print(\"Tau \",math.tau)"
   ]
  },
  {
   "cell_type": "code",
   "execution_count": null,
   "id": "22c7907d-aaf0-489b-85c3-795fcf100bef",
   "metadata": {},
   "outputs": [],
   "source": []
  }
 ],
 "metadata": {
  "kernelspec": {
   "display_name": "Python 3 (ipykernel)",
   "language": "python",
   "name": "python3"
  },
  "language_info": {
   "codemirror_mode": {
    "name": "ipython",
    "version": 3
   },
   "file_extension": ".py",
   "mimetype": "text/x-python",
   "name": "python",
   "nbconvert_exporter": "python",
   "pygments_lexer": "ipython3",
   "version": "3.9.7"
  }
 },
 "nbformat": 4,
 "nbformat_minor": 5
}
